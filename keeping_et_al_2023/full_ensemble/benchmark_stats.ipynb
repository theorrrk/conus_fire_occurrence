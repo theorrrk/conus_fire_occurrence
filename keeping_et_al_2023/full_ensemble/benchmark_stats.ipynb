{
 "cells": [
  {
   "cell_type": "code",
   "execution_count": 1,
   "metadata": {},
   "outputs": [],
   "source": [
    "import numpy as np\n",
    "import xarray as xr"
   ]
  },
  {
   "cell_type": "code",
   "execution_count": 2,
   "metadata": {},
   "outputs": [],
   "source": [
    "def load_data():\n",
    "    ds1 = xr.open_dataset('/rds/general/user/tk22/home/fire_genesis/'+\n",
    "                          'datasets/final_prob.nc')\n",
    "    ds2 = xr.open_dataset('/rds/general/user/tk22/projects/'+\n",
    "                          'leverhulme_wildfires_theo_keeping/'+\n",
    "                          'live/start_inputs/genesis_fire_'+\n",
    "                          'FPAFOD_20020101_20181231.nc')\n",
    "    ds3 = xr.open_dataset('/rds/general/user/tk22/projects/'+\n",
    "                          'leverhulme_wildfires_theo_keeping/'+\n",
    "                          'live/start_inputs/genesis_cell_area_'+\n",
    "                          '20020101_20181231.nc')\n",
    "    ds = xr.merge([ds1, ds2, ds3])\n",
    "    return ds"
   ]
  },
  {
   "cell_type": "code",
   "execution_count": 3,
   "metadata": {},
   "outputs": [],
   "source": [
    "def seasonal_concentration_monthly(x, ds):\n",
    "    theta = 2 * np.pi * (ds.date.dt.month - 1) / 12\n",
    "    lx = np.sum(x * np.cos(theta))\n",
    "    ly = np.sum(x * np.sin(theta))\n",
    "    c = np.sqrt(lx**2 + ly**2) / np.sum(x)\n",
    "    p = np.arctan(lx / ly)\n",
    "    return c, p\n",
    "\n",
    "def grid_run_monthly(arr, ds):\n",
    "    cs = np.zeros((len(ds.lat), len(ds.lon)))\n",
    "    ps = np.zeros((len(ds.lat), len(ds.lon)))\n",
    "\n",
    "    for i in range(len(ds.lat)):\n",
    "        for j in range(len(ds.lon)):\n",
    "            try:\n",
    "                c,p = seasonal_concentration_monthly(arr[:,i,j], ds)\n",
    "            except:\n",
    "                c,p = seasonal_concentration_monthly(arr[i,j,:], ds)\n",
    "            cs[i,j] = c\n",
    "            ps[i,j] = p\n",
    "\n",
    "\n",
    "    output = xr.Dataset(data_vars =  {'c': (['lat', 'lon'] , cs),\n",
    "                                      'p': (['lat', 'lon'] , ps)},\n",
    "                        coords =  {'lat': ds.lat.data,\n",
    "                                   'lon': ds.lon.data})\n",
    "    return output"
   ]
  },
  {
   "cell_type": "code",
   "execution_count": 4,
   "metadata": {},
   "outputs": [],
   "source": [
    "def nme(cell_area, arr_obs, arr_mod):\n",
    "    nme_out = (np.nansum(cell_area * np.abs(arr_obs - arr_mod)) / \n",
    "               np.nansum(cell_area * np.abs(arr_obs - np.nanmean(arr_obs))))\n",
    "    return nme_out"
   ]
  },
  {
   "cell_type": "code",
   "execution_count": 5,
   "metadata": {},
   "outputs": [],
   "source": [
    "def mpd(cell_area, mod_season, obs_season):\n",
    "    pd = cell_area * np.arccos( np.cos(mod_season.p.to_numpy() - obs_season.p.to_numpy()))\n",
    "    mpd = (1 / np.pi) * np.nansum(pd) / np.nansum(cell_area)\n",
    "    return mpd"
   ]
  },
  {
   "cell_type": "code",
   "execution_count": 6,
   "metadata": {},
   "outputs": [],
   "source": [
    "def geospatial_nme(ds):\n",
    "    # Making relevant data:\n",
    "    arr_mod = ds.p.mean(dim = 'date').to_numpy()\n",
    "    arr_obs = ds.fire.mean(dim = 'date').to_numpy()\n",
    "    cell_area = ds.cell_area[0,:,:].to_numpy()\n",
    "    # Finding nme\n",
    "    nme_geo = nme(cell_area, arr_obs, arr_mod)\n",
    "    return nme_geo\n",
    "\n",
    "def seasonal_concentration_nme(mod_season, obs_season, ds):\n",
    "    # Making relevant data:\n",
    "    arr_mod = mod_season.c.to_numpy()\n",
    "    arr_obs = obs_season.c.to_numpy()\n",
    "    cell_area = ds.cell_area[0,:,:].to_numpy()\n",
    "    # Finding nme:\n",
    "    nme_seas_c = nme(cell_area, arr_obs, arr_mod)\n",
    "    return nme_seas_c\n",
    "\n",
    "def interannual_nme(mod_fires, obs_fires):\n",
    "    pseudo_areas = np.ones_like(mod_fires)\n",
    "    nme_inter = nme(pseudo_areas, obs_fires.to_numpy(), mod_fires.to_numpy())\n",
    "    return nme_inter\n"
   ]
  },
  {
   "cell_type": "code",
   "execution_count": 7,
   "metadata": {},
   "outputs": [],
   "source": [
    "def benchmark_stats(ds1, ds2):\n",
    "    # Seasonal stats:\n",
    "    mod_season = grid_run_monthly(ds1.p.to_numpy(), ds1)\n",
    "    obs_season = grid_run_monthly(ds1.fire.to_numpy(), ds1)\n",
    "    # Geospatial:\n",
    "    nme_geospatial = geospatial_nme(ds1)\n",
    "    print(f'Geospatial NME   = \\t{nme_geospatial:.5f}')\n",
    "    # Seasonal phase:\n",
    "    cell_area = ds1.cell_area[0,:,:].to_numpy()\n",
    "    mpd_seasonal = mpd(cell_area, mod_season, obs_season)\n",
    "    print(f'Season Phase MPD = \\t{mpd_seasonal:.5f}')\n",
    "    # Seasonal concentration:\n",
    "    nme_seasonal = seasonal_concentration_nme(mod_season, obs_season, ds1)\n",
    "    print(f'Season Conc. NME = \\t{nme_seasonal:.5f}')\n",
    "    # Interannual:\n",
    "    nme_interannual = interannual_nme(ds2.p, ds2.fire)\n",
    "    print(f'Interannual NME  = \\t{nme_interannual:.5f}')\n",
    "    return nme_geospatial, mpd_seasonal, nme_seasonal, nme_interannual"
   ]
  },
  {
   "cell_type": "code",
   "execution_count": 8,
   "metadata": {},
   "outputs": [
    {
     "name": "stdout",
     "output_type": "stream",
     "text": [
      "Geospatial NME   = \t0.46629\n",
      "Season Phase MPD = \t0.14007\n",
      "Season Conc. NME = \t0.84459\n",
      "Interannual NME  = \t0.67518\n"
     ]
    }
   ],
   "source": [
    "# Building data (monthly, 0.5-degree interpolation to match FireMIP):\n",
    "ds1 = load_data()\n",
    "ds1 = ds1.coarsen({'lat':5,'lon':5}, boundary = 'trim').mean()\n",
    "ds1 = ds1.resample(date = '1M').mean()\n",
    "# Annual data:\n",
    "ds2 = load_data().resample(date = '1Y').sum()\n",
    "# Getting stats:\n",
    "nme_geospatial, mpd_seasonal, nme_seasonal, nme_interannual = benchmark_stats(ds1, ds2)"
   ]
  }
 ],
 "metadata": {
  "kernelspec": {
   "display_name": "Python [conda env:firepy]",
   "language": "python",
   "name": "conda-env-firepy-py"
  },
  "language_info": {
   "codemirror_mode": {
    "name": "ipython",
    "version": 3
   },
   "file_extension": ".py",
   "mimetype": "text/x-python",
   "name": "python",
   "nbconvert_exporter": "python",
   "pygments_lexer": "ipython3",
   "version": "3.11.0"
  }
 },
 "nbformat": 4,
 "nbformat_minor": 2
}
